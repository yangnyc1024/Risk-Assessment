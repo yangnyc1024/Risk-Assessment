{
 "cells": [
  {
   "cell_type": "code",
   "execution_count": 1,
   "metadata": {},
   "outputs": [],
   "source": [
    "from helper_fns import *"
   ]
  },
  {
   "cell_type": "code",
   "execution_count": 23,
   "metadata": {},
   "outputs": [],
   "source": [
    "import os,sys\n",
    "from IPython.display import Image"
   ]
  },
  {
   "cell_type": "code",
   "execution_count": 30,
   "metadata": {},
   "outputs": [],
   "source": [
    "dataset = 'simulated'\n",
    "# threshold_type = 'absolute'\n",
    "threshold_type = 'absolute'"
   ]
  },
  {
   "cell_type": "code",
   "execution_count": 31,
   "metadata": {},
   "outputs": [],
   "source": [
    "# muh_fun_range = ['linear_regression','support_vector','knn', 'random_forest','polynomial_regression']\n",
    "# models = ['Linear Regression','SVR','KNN', 'Random Forest', 'Polynomial Regression']\n",
    "# sim_data_size_range = [100, 200, 400, 600, 800, 1000]\n",
    "# #cp_types = ['Jacknife+', 'Wt_Jacknife+', 'CV+', 'Wt_CV+', 'Split',  'Wt_Split']\n",
    "# cp_types = ['Jacknife+', 'CV+','Split']\n",
    "# bias_range = [0, 100, 150, 200]\n",
    "# tau = 10\n",
    "\n",
    "\n",
    "muh_fun_range = ['linear_regression']\n",
    "models = ['Linear Regression']\n",
    "# sim_data_size_range = [1000]\n",
    "sim_data_size_range = [500]\n",
    "\n",
    "# cp_types = ['Jacknife+', 'Wt_Jacknife+', 'CV+', 'Wt_CV+', 'Split',  'Wt_Split']\n",
    "# cp_types = ['Jacknife+', 'CV+','Split']\n",
    "cp_types = ['Jacknife+', 'Split']\n",
    "\n",
    "bias_range = [0, 100, 150, 200]\n",
    "tau = 10"
   ]
  },
  {
   "cell_type": "code",
   "execution_count": 26,
   "metadata": {},
   "outputs": [
    {
     "name": "stdout",
     "output_type": "stream",
     "text": [
      "linear_regression\n"
     ]
    }
   ],
   "source": [
    "# bias = bias_range[0]\n",
    "# sim_data_size = sim_data_size_range[-1]\n",
    "muh_fun = muh_fun_range[0]\n",
    "print(muh_fun)\n",
    "# model = models[0]"
   ]
  },
  {
   "cell_type": "code",
   "execution_count": 27,
   "metadata": {},
   "outputs": [
    {
     "data": {
      "text/plain": [
       "[500]"
      ]
     },
     "execution_count": 27,
     "metadata": {},
     "output_type": "execute_result"
    }
   ],
   "source": [
    "sim_data_size_range"
   ]
  },
  {
   "cell_type": "code",
   "execution_count": 32,
   "metadata": {},
   "outputs": [],
   "source": [
    "cmap = ['#c3e2e3', '#7399b8','#424673', '#33a02c']\n",
    "cmap_paired = [ '#c3e2e3', '#95c0ce', '#7399b8', '#59709c', '#424673', '#27213f']"
   ]
  },
  {
   "cell_type": "code",
   "execution_count": 33,
   "metadata": {},
   "outputs": [
    {
     "name": "stdout",
     "output_type": "stream",
     "text": [
      "    sim_data_size     Legend     value\n",
      "0             500  Jacknife+  1.000000\n",
      "1             500  Jacknife+  0.445337\n",
      "2             500  Jacknife+  1.000000\n",
      "3             500  Jacknife+  1.000000\n",
      "4             500  Jacknife+  1.000000\n",
      "5             500  Jacknife+  0.423685\n",
      "6             500  Jacknife+  0.409212\n",
      "7             500  Jacknife+  0.470199\n",
      "8             500  Jacknife+  0.508870\n",
      "9             500  Jacknife+  0.446895\n",
      "10            500      Split  0.119318\n",
      "11            500      Split  1.000000\n",
      "12            500      Split  0.090909\n",
      "13            500      Split  1.000000\n",
      "14            500      Split  0.119318\n",
      "15            500      Split  0.153409\n",
      "16            500      Split  0.170455\n",
      "17            500      Split  0.107955\n",
      "18            500      Split  0.176136\n",
      "19            500      Split  0.119318\n"
     ]
    },
    {
     "data": {
      "image/png": "[encoded data removed]",
      "text/plain": [
       "<Figure size 864x432 with 1 Axes>"
      ]
     },
     "metadata": {
      "needs_background": "light"
     },
     "output_type": "display_data"
    }
   ],
   "source": [
    "# model = ['linear_regression']\n",
    "# model_names = ['Linear Regression']\n",
    "model = ['neural_network']\n",
    "model_names = ['Neural Network']\n",
    "# model = ['random_forest']\n",
    "# model_names = ['Random Forest']\n",
    "\n",
    "trial_time = 10\n",
    "i = 0  # i is for model\n",
    "sim_data_size = sim_data_size_range[0]\n",
    "\n",
    "\n",
    "\n",
    "mean_coverage_by_dataset_size = []\n",
    "true_prob = []\n",
    "mean_coverage_by_dataset_size.append(pd.read_csv(dataset + '/bias_0/sim_data_size_' + str(sim_data_size) +\\\n",
    "                        '/' + 'Threshold_type_' + str(threshold_type) + '/' + str(model[i]) + \\\n",
    "                        '/JAWS_coverage_by_trial/mean_coverage.csv'))\n",
    "\n",
    "# print(mean_coverage_by_dataset_size)\n",
    "\n",
    "\n",
    "mean_coverage_by_dataset_size[i]['model'] = np.repeat(model_names[i], trial_time)\n",
    "\n",
    "# print(mean_coverage_by_dataset_size[0])\n",
    "mean_coverage_by_dataset_size[i]['sim_data_size'] = np.repeat(sim_data_size_range[i], trial_time)\n",
    "\n",
    "true_prob.append(pd.read_csv(dataset + '/bias_0/sim_data_size_' + str(sim_data_size) +\\\n",
    "                            '/Threshold_type_' + str(threshold_type) + '/' + str(model[i]) + \\\n",
    "                            '/JAWS_coverage_by_trial/mean_coverage.csv')['True Probability'])\n",
    "# print(true_prob)\n",
    "\n",
    "mean_coverage_by_dataset_size_transform = pd.melt(pd.concat([mean_coverage_by_dataset_size[0]]),\n",
    "                                              id_vars = ['sim_data_size'],\n",
    "                                              value_vars = cp_types, \n",
    "                                              var_name = 'Legend')\n",
    "\n",
    "mean_coverage_by_dataset_size_transform['value'] = 1 - mean_coverage_by_dataset_size_transform['value']\n",
    "print(mean_coverage_by_dataset_size_transform)\n",
    "\n",
    "true_prob_mean = np.mean(true_prob, axis = 1)\n",
    "true_prob_mean = 1 - true_prob_mean\n",
    "        \n",
    "plt.figure(figsize = (12,6))\n",
    "\n",
    "\n",
    "# plt.axhline(y = true_prob_mean[i],  \n",
    "#             xmin = 0.15*(1.15*i), xmax = 0.15*(1.15*i+1), \n",
    "#             color = '#33a02c',\n",
    "#             lw = 2,\n",
    "#             linestyle = '--', \n",
    "#             label = 'True Probability' if i == 0 else \"\") \n",
    "\n",
    "plt.axhline(y = 1- np.mean(true_prob), linestyle = '--', color = '#33a02c', lw = 2, label = 'True Probability')\n",
    "sns.boxplot(x = 'sim_data_size',\n",
    "    y = 'value',\n",
    "    data = mean_coverage_by_dataset_size_transform,\n",
    "    palette = cmap,\n",
    "    hue = 'Legend')\n",
    "\n",
    "plt.legend(loc = 'upper left')\n",
    "#plt.ylim((0.75,0.975))\n",
    "plt.ylabel('Miscoverage')\n",
    "plt.xlabel('Size of simulated dataset')\n",
    "plt.title('Miscoverage estimate distribution by size of dataset - ' + model[0])\n",
    "plt.savefig(dataset + '/bias_0/sim_data_size_' + str(sim_data_size_range[0]) + '/Threshold_type_' + str(threshold_type) + '/' + \\\n",
    "                        model[0] + '/plots/coverage_estimates_by_size_' + dataset +'.png')"
   ]
  },
  {
   "cell_type": "code",
   "execution_count": null,
   "metadata": {},
   "outputs": [],
   "source": [
    "simulated/bias_0/sim_data_size_100/Threshold_type_absolute/neural_network/JAWS_coverage_by_trial/mean_coverage.csv \n",
    "simulated/bias_0/sim_data_size_100/Threshold_type_absolute/nerual_network/JAWS_coverage_by_trial/mean_coverage.csv"
   ]
  },
  {
   "cell_type": "code",
   "execution_count": null,
   "metadata": {},
   "outputs": [
    {
     "name": "stdout",
     "output_type": "stream",
     "text": [
      "    sim_data_size     Legend     value\n",
      "0            1000  Jacknife+  0.707423\n",
      "1            1000  Jacknife+  0.709372\n",
      "2            1000  Jacknife+  0.711051\n",
      "3            1000  Jacknife+  0.710399\n",
      "4            1000  Jacknife+  0.705074\n",
      "5            1000  Jacknife+  0.701983\n",
      "6            1000  Jacknife+  0.723918\n",
      "7            1000  Jacknife+  0.726125\n",
      "8            1000  Jacknife+  0.719196\n",
      "9            1000  Jacknife+  0.718897\n",
      "10           1000        CV+  0.701693\n",
      "11           1000        CV+  0.711298\n",
      "12           1000        CV+  0.713714\n",
      "13           1000        CV+  0.709933\n",
      "14           1000        CV+  0.705687\n",
      "15           1000        CV+  0.702853\n",
      "16           1000        CV+  0.721146\n",
      "17           1000        CV+  0.724960\n",
      "18           1000        CV+  0.720528\n",
      "19           1000        CV+  0.725354\n",
      "20           1000      Split  0.655271\n",
      "21           1000      Split  0.712251\n",
      "22           1000      Split  0.712251\n",
      "23           1000      Split  0.726496\n",
      "24           1000      Split  0.740741\n",
      "25           1000      Split  0.706553\n",
      "26           1000      Split  0.746439\n",
      "27           1000      Split  0.720798\n",
      "28           1000      Split  0.709402\n",
      "29           1000      Split  0.700855\n"
     ]
    },
    {
     "data": {
      "image/png": "[encoded data removed]",
      "text/plain": [
       "<Figure size 864x432 with 1 Axes>"
      ]
     },
     "metadata": {
      "needs_background": "light"
     },
     "output_type": "display_data"
    }
   ],
   "source": [
    "\n",
    "# model = ['linear_regression']\n",
    "# model_names = ['Linear Regression']\n",
    "\n",
    "# trial_time = 10\n",
    "# i = 0  # i is for model\n",
    "# sim_data_size = sim_data_size_range[0]\n",
    "\n",
    "\n",
    "\n",
    "# mean_coverage_by_dataset_size = []\n",
    "# true_prob = []\n",
    "# mean_coverage_by_dataset_size.append(pd.read_csv(dataset + '/bias_0/sim_data_size_' + str(sim_data_size) +\\\n",
    "#                         '/' + 'Threshold_type_' + str(threshold_type) + '/' + str(model[i]) + \\\n",
    "#                         '/JAWS_coverage_by_trial/mean_coverage.csv'))\n",
    "\n",
    "# # print(mean_coverage_by_dataset_size)\n",
    "\n",
    "\n",
    "# mean_coverage_by_dataset_size[i]['model'] = np.repeat(model_names[i], trial_time)\n",
    "\n",
    "# # print(mean_coverage_by_dataset_size[0])\n",
    "# mean_coverage_by_dataset_size[i]['sim_data_size'] = np.repeat(sim_data_size_range[i], trial_time)\n",
    "\n",
    "# true_prob.append(pd.read_csv(dataset + '/bias_0/sim_data_size_' + str(sim_data_size) +\\\n",
    "#                             '/Threshold_type_' + str(threshold_type) + '/' + str(model[i]) + \\\n",
    "#                             '/JAWS_coverage_by_trial/mean_coverage.csv')['True Probability'])\n",
    "# # print(true_prob)\n",
    "\n",
    "# mean_coverage_by_dataset_size_transform = pd.melt(pd.concat([mean_coverage_by_dataset_size[0]]),\n",
    "#                                               id_vars = ['sim_data_size'],\n",
    "#                                               value_vars = cp_types, \n",
    "#                                               var_name = 'Legend')\n",
    "\n",
    "# print(mean_coverage_by_dataset_size_transform)\n",
    "\n",
    "# true_prob_mean = np.mean(true_prob, axis = 1)\n",
    "        \n",
    "# plt.figure(figsize = (12,6))\n",
    "\n",
    "\n",
    "# plt.axhline(y = true_prob_mean[i],  \n",
    "#             xmin = 0.15*(1.15*i), xmax = 0.15*(1.15*i+1), \n",
    "#             color = '#33a02c',\n",
    "#             lw = 2,\n",
    "#             linestyle = '--', \n",
    "#             label = 'True Probability' if i == 0 else \"\") \n",
    "\n",
    "# #plt.axhline(y = np.mean(true_prob), linestyle = '--', color = '#33a02c', lw = 2, label = 'True Probability')\n",
    "# sns.boxplot(x = 'sim_data_size',\n",
    "#     y = 'value',\n",
    "#     data = mean_coverage_by_dataset_size_transform,\n",
    "#     palette = cmap,\n",
    "#     hue = 'Legend')\n",
    "\n",
    "# plt.legend(loc = 'upper left')\n",
    "# #plt.ylim((0.75,0.975))\n",
    "# plt.ylabel('Coverage')\n",
    "# plt.xlabel('Size of simulated dataset')\n",
    "# plt.title('Coverage estimate distribution by size of dataset - ' + model[0])\n",
    "# plt.savefig(dataset + '/bias_0/sim_data_size_' + str(1000) + '/Threshold_type_' + str(threshold_type) + '/' + \\\n",
    "#                         model[0] + '/plots/coverage_estimates_by_size_' + dataset +'.png')\n",
    "    "
   ]
  },
  {
   "cell_type": "code",
   "execution_count": null,
   "metadata": {},
   "outputs": [],
   "source": [
    "# model = 'linear_regression'\n",
    "# sim_data_size = sim_data_size_range\n",
    "# coverage_by_dataset_size = []\n",
    "# i = 0\n",
    "\n",
    "# coverage_by_dataset_size.append(pd.read_csv(dataset + '/No_bias/sim_data_size_' + str(sim_data_size[i]) +\\\n",
    "#                                 '/Threshold_type_' + str(threshold_type) + '/' + model + \\\n",
    "#                                 '/JAWS_coverage_by_trial/mean_coverage.csv').rename(columns = \\\n",
    "#                 {'Jacknife+':'InvCP-Jacknife+','CV+':'InvCP-CV+', 'Split':'InvCP-Split'}))\n",
    "# print(coverage_by_dataset_size)\n",
    "# coverage_by_dataset_size[i]['JAWS-Jacknife+'] = pd.read_csv(dataset + '/No_bias/sim_data_size_' + str(sim_data_size[i]) +\\\n",
    "#                                     '/' + 'Threshold_type_' + str(threshold_type) + '/' + model + \\\n",
    "#                                     '/JAWS_coverage_by_trial/jackknife_plus.csv').iloc[:,1]\n",
    "# print(coverage_by_dataset_size)\n",
    "# coverage_by_dataset_size[i]['JAWS-CV+'] = pd.read_csv(dataset + '/No_bias/sim_data_size_' + str(sim_data_size[i]) +\\\n",
    "#                                     '/' + 'Threshold_type_' + str(threshold_type) + '/' + model + \\\n",
    "#                                     '/JAWS_coverage_by_trial/cv_plus.csv').iloc[:,1]\n",
    "# coverage_by_dataset_size[i]['JAWS-Split'] = pd.read_csv(dataset + '/No_bias/sim_data_size_' + str(sim_data_size[i]) +\\\n",
    "#                                     '/' + 'Threshold_type_' + str(threshold_type) + '/' + model + \\\n",
    "#                                     '/JAWS_coverage_by_trial/split.csv').iloc[:,1]\n",
    "# print(coverage_by_dataset_size)\n",
    "# coverage_by_dataset_size[i]['sim_data_size'] = np.repeat(sim_data_size, 1)\n",
    "# print(coverage_by_dataset_size)"
   ]
  },
  {
   "cell_type": "code",
   "execution_count": null,
   "metadata": {},
   "outputs": [],
   "source": [
    "def coverage_by_type(cp_types, sim_data_size, threshold_type, model):\n",
    "    \n",
    "    dataset = 'simulated'\n",
    "\n",
    "    coverage_by_dataset_size = []\n",
    "\n",
    "    for i in range(len(sim_data_size)):\n",
    "        # put the original\n",
    "        coverage_by_dataset_size.append(pd.read_csv(dataset + '/No_bias/sim_data_size_' + str(sim_data_size[i]) +\\\n",
    "                                '/Threshold_type_' + str(threshold_type) + '/' + model + \\\n",
    "                                '/JAWS_coverage_by_trial/mean_coverage.csv').rename(columns = \\\n",
    "                {'Jacknife+':'InvCP-Jacknife+','CV+':'InvCP-CV+', 'Split':'InvCP-Split'}))\n",
    "        \n",
    "        coverage_by_dataset_size[i]['JAWS-Jacknife+'] = pd.read_csv(dataset + '/No_bias/sim_data_size_' + str(sim_data_size[i]) +\\\n",
    "                                    '/' + 'Threshold_type_' + str(threshold_type) + '/' + model + \\\n",
    "                                    '/JAWS_coverage_by_trial/jackknife_plus.csv').iloc[:,1]\n",
    "        coverage_by_dataset_size[i]['JAWS-CV+'] = pd.read_csv(dataset + '/No_bias/sim_data_size_' + str(sim_data_size[i]) +\\\n",
    "                                    '/' + 'Threshold_type_' + str(threshold_type) + '/' + model + \\\n",
    "                                    '/JAWS_coverage_by_trial/cv_plus.csv').iloc[:,1]\n",
    "        coverage_by_dataset_size[i]['JAWS-Split'] = pd.read_csv(dataset + '/No_bias/sim_data_size_' + str(sim_data_size[i]) +\\\n",
    "                                    '/' + 'Threshold_type_' + str(threshold_type) + '/' + model + \\\n",
    "                                    '/JAWS_coverage_by_trial/split.csv').iloc[:,1]\n",
    "\n",
    "        \n",
    "        # coverage_by_dataset_size[i]['sim_data_size'] = np.repeat(sim_data_size[i], 100)\n",
    "        coverage_by_dataset_size[i]['sim_data_size'] = np.repeat(sim_data_size[i], 1)\n",
    "\n",
    "\n",
    "\n",
    "        \n",
    "    coverage_by_dataset_size_transform = pd.melt(pd.concat([coverage_by_dataset_size[0], \n",
    "                                                            coverage_by_dataset_size[1], \n",
    "                                                            coverage_by_dataset_size[2], \n",
    "                                                            coverage_by_dataset_size[3], \n",
    "                                                            coverage_by_dataset_size[4],\n",
    "                                                            coverage_by_dataset_size[5]]),\n",
    "                                              id_vars = ['sim_data_size'],\n",
    "                                              value_vars = cp_types, \n",
    "                                              var_name = 'Legend')\n",
    "\n",
    "    \n",
    "    true_prob = pd.read_csv(dataset + '/No_bias/sim_data_size_' + str(sim_data_size[-1]) +\\\n",
    "                            '/Threshold_type_' + str(threshold_type) + '/' + model + \\\n",
    "                            '/JAWS_coverage_by_trial/mean_coverage.csv')['True Probability']\n",
    "    \n",
    "    \n",
    "    plt.figure(figsize = (12,6))\n",
    "    plt.axhline(y = np.mean(true_prob), linestyle = '--', color = '#33a02c', lw = 2, label = 'True Probability')\n",
    "    sns.boxplot(x = 'sim_data_size',\n",
    "        y = 'value',\n",
    "        data = coverage_by_dataset_size_transform,\n",
    "        palette = cmap_paired,\n",
    "        hue = 'Legend')\n",
    "    \n",
    "    plt.legend()\n",
    "    plt.ylabel('Coverage')\n",
    "    plt.xlabel('Size of simulated dataset')\n",
    "    plt.title('Coverage estimate distribution by estimate type - ' + model)\n",
    "    plt.savefig(dataset + '/No_bias/sim_data_size_' + str(1000) + '/Threshold_type_' + str(threshold_type) + '/' + \\\n",
    "                            model + '/plots/coverage_estimates_by_type_' + dataset +'.png')"
   ]
  },
  {
   "cell_type": "code",
   "execution_count": null,
   "metadata": {},
   "outputs": [],
   "source": [
    "# coverage_by_type(['JAWS-Jacknife+','InvCP-Jacknife+', 'JAWS-CV+', 'InvCP-CV+', 'JAWS-Split', 'InvCP-Split'], sim_data_size_range, threshold_type, muh_fun)"
   ]
  },
  {
   "cell_type": "code",
   "execution_count": null,
   "metadata": {},
   "outputs": [],
   "source": [
    "# coverage_by_type(['JAWS-Jacknife+','InvCP-Jacknife+', 'JAWS-CV+', 'InvCP-CV+', 'JAWS-Split', 'InvCP-Split'], sim_data_size_range, threshold_type, muh_fun)"
   ]
  },
  {
   "cell_type": "code",
   "execution_count": null,
   "metadata": {},
   "outputs": [
    {
     "name": "stdout",
     "output_type": "stream",
     "text": [
      "0    0.707561\n",
      "Name: JAWS-Jacknife+, dtype: float64\n",
      "0    0.700428\n",
      "Name: JAWS-CV+, dtype: float64\n",
      "0    0.700855\n",
      "Name: JAWS-Split, dtype: float64\n"
     ]
    },
    {
     "ename": "ValueError",
     "evalue": "Length of values (100) does not match length of index (1)",
     "output_type": "error",
     "traceback": [
      "\u001b[0;31m---------------------------------------------------------------------------\u001b[0m",
      "\u001b[0;31mValueError\u001b[0m                                Traceback (most recent call last)",
      "\u001b[1;32m/Users/linyang1024/Documents/GitHub/Risk-Assessment/Regression_Simulated_data/Final_final.ipynb Cell 11\u001b[0m line \u001b[0;36m<cell line: 1>\u001b[0;34m()\u001b[0m\n\u001b[0;32m----> <a href='vscode-notebook-cell:/Users/linyang1024/Documents/GitHub/Risk-Assessment/Regression_Simulated_data/Final_final.ipynb#X13sZmlsZQ%3D%3D?line=0'>1</a>\u001b[0m coverage_by_type([\u001b[39m'\u001b[39;49m\u001b[39mJacknife+\u001b[39;49m\u001b[39m'\u001b[39;49m, \u001b[39m'\u001b[39;49m\u001b[39mCV+\u001b[39;49m\u001b[39m'\u001b[39;49m,\u001b[39m'\u001b[39;49m\u001b[39mSplit\u001b[39;49m\u001b[39m'\u001b[39;49m], sim_data_size_range, threshold_type, muh_fun)\n",
      "\u001b[1;32m/Users/linyang1024/Documents/GitHub/Risk-Assessment/Regression_Simulated_data/Final_final.ipynb Cell 11\u001b[0m line \u001b[0;36mcoverage_by_type\u001b[0;34m(cp_types, sim_data_size, threshold_type, model)\u001b[0m\n\u001b[1;32m     <a href='vscode-notebook-cell:/Users/linyang1024/Documents/GitHub/Risk-Assessment/Regression_Simulated_data/Final_final.ipynb#X13sZmlsZQ%3D%3D?line=23'>24</a>\u001b[0m \u001b[39mprint\u001b[39m(coverage_by_dataset_size[i][\u001b[39m'\u001b[39m\u001b[39mJAWS-Split\u001b[39m\u001b[39m'\u001b[39m] )\n\u001b[1;32m     <a href='vscode-notebook-cell:/Users/linyang1024/Documents/GitHub/Risk-Assessment/Regression_Simulated_data/Final_final.ipynb#X13sZmlsZQ%3D%3D?line=25'>26</a>\u001b[0m \u001b[39m# coverage_by_dataset_size[i]['sim_data_size'] = np.repeat(sim_data_size[i], 100)\u001b[39;00m\n\u001b[0;32m---> <a href='vscode-notebook-cell:/Users/linyang1024/Documents/GitHub/Risk-Assessment/Regression_Simulated_data/Final_final.ipynb#X13sZmlsZQ%3D%3D?line=26'>27</a>\u001b[0m coverage_by_dataset_size[i][\u001b[39m'\u001b[39m\u001b[39msim_data_size\u001b[39m\u001b[39m'\u001b[39m] \u001b[39m=\u001b[39m np\u001b[39m.\u001b[39mrepeat(sim_data_size, \u001b[39m100\u001b[39m)\n\u001b[1;32m     <a href='vscode-notebook-cell:/Users/linyang1024/Documents/GitHub/Risk-Assessment/Regression_Simulated_data/Final_final.ipynb#X13sZmlsZQ%3D%3D?line=27'>28</a>\u001b[0m \u001b[39mprint\u001b[39m(coverage_by_dataset_size[i][\u001b[39m'\u001b[39m\u001b[39msim_data_size\u001b[39m\u001b[39m'\u001b[39m])\n\u001b[1;32m     <a href='vscode-notebook-cell:/Users/linyang1024/Documents/GitHub/Risk-Assessment/Regression_Simulated_data/Final_final.ipynb#X13sZmlsZQ%3D%3D?line=28'>29</a>\u001b[0m \u001b[39mprint\u001b[39m(coverage_by_dataset_size)\n",
      "File \u001b[0;32m/opt/homebrew/Caskroom/miniforge/base/envs/pytorch_env/lib/python3.8/site-packages/pandas/core/frame.py:3950\u001b[0m, in \u001b[0;36mDataFrame.__setitem__\u001b[0;34m(self, key, value)\u001b[0m\n\u001b[1;32m   3947\u001b[0m     \u001b[39mself\u001b[39m\u001b[39m.\u001b[39m_setitem_array([key], value)\n\u001b[1;32m   3948\u001b[0m \u001b[39melse\u001b[39;00m:\n\u001b[1;32m   3949\u001b[0m     \u001b[39m# set column\u001b[39;00m\n\u001b[0;32m-> 3950\u001b[0m     \u001b[39mself\u001b[39;49m\u001b[39m.\u001b[39;49m_set_item(key, value)\n",
      "File \u001b[0;32m/opt/homebrew/Caskroom/miniforge/base/envs/pytorch_env/lib/python3.8/site-packages/pandas/core/frame.py:4143\u001b[0m, in \u001b[0;36mDataFrame._set_item\u001b[0;34m(self, key, value)\u001b[0m\n\u001b[1;32m   4133\u001b[0m \u001b[39mdef\u001b[39;00m \u001b[39m_set_item\u001b[39m(\u001b[39mself\u001b[39m, key, value) \u001b[39m-\u001b[39m\u001b[39m>\u001b[39m \u001b[39mNone\u001b[39;00m:\n\u001b[1;32m   4134\u001b[0m     \u001b[39m\"\"\"\u001b[39;00m\n\u001b[1;32m   4135\u001b[0m \u001b[39m    Add series to DataFrame in specified column.\u001b[39;00m\n\u001b[1;32m   4136\u001b[0m \n\u001b[0;32m   (...)\u001b[0m\n\u001b[1;32m   4141\u001b[0m \u001b[39m    ensure homogeneity.\u001b[39;00m\n\u001b[1;32m   4142\u001b[0m \u001b[39m    \"\"\"\u001b[39;00m\n\u001b[0;32m-> 4143\u001b[0m     value \u001b[39m=\u001b[39m \u001b[39mself\u001b[39;49m\u001b[39m.\u001b[39;49m_sanitize_column(value)\n\u001b[1;32m   4145\u001b[0m     \u001b[39mif\u001b[39;00m (\n\u001b[1;32m   4146\u001b[0m         key \u001b[39min\u001b[39;00m \u001b[39mself\u001b[39m\u001b[39m.\u001b[39mcolumns\n\u001b[1;32m   4147\u001b[0m         \u001b[39mand\u001b[39;00m value\u001b[39m.\u001b[39mndim \u001b[39m==\u001b[39m \u001b[39m1\u001b[39m\n\u001b[1;32m   4148\u001b[0m         \u001b[39mand\u001b[39;00m \u001b[39mnot\u001b[39;00m is_extension_array_dtype(value)\n\u001b[1;32m   4149\u001b[0m     ):\n\u001b[1;32m   4150\u001b[0m         \u001b[39m# broadcast across multiple columns if necessary\u001b[39;00m\n\u001b[1;32m   4151\u001b[0m         \u001b[39mif\u001b[39;00m \u001b[39mnot\u001b[39;00m \u001b[39mself\u001b[39m\u001b[39m.\u001b[39mcolumns\u001b[39m.\u001b[39mis_unique \u001b[39mor\u001b[39;00m \u001b[39misinstance\u001b[39m(\u001b[39mself\u001b[39m\u001b[39m.\u001b[39mcolumns, MultiIndex):\n",
      "File \u001b[0;32m/opt/homebrew/Caskroom/miniforge/base/envs/pytorch_env/lib/python3.8/site-packages/pandas/core/frame.py:4870\u001b[0m, in \u001b[0;36mDataFrame._sanitize_column\u001b[0;34m(self, value)\u001b[0m\n\u001b[1;32m   4867\u001b[0m     \u001b[39mreturn\u001b[39;00m _reindex_for_setitem(Series(value), \u001b[39mself\u001b[39m\u001b[39m.\u001b[39mindex)\n\u001b[1;32m   4869\u001b[0m \u001b[39mif\u001b[39;00m is_list_like(value):\n\u001b[0;32m-> 4870\u001b[0m     com\u001b[39m.\u001b[39;49mrequire_length_match(value, \u001b[39mself\u001b[39;49m\u001b[39m.\u001b[39;49mindex)\n\u001b[1;32m   4871\u001b[0m \u001b[39mreturn\u001b[39;00m sanitize_array(value, \u001b[39mself\u001b[39m\u001b[39m.\u001b[39mindex, copy\u001b[39m=\u001b[39m\u001b[39mTrue\u001b[39;00m, allow_2d\u001b[39m=\u001b[39m\u001b[39mTrue\u001b[39;00m)\n",
      "File \u001b[0;32m/opt/homebrew/Caskroom/miniforge/base/envs/pytorch_env/lib/python3.8/site-packages/pandas/core/common.py:576\u001b[0m, in \u001b[0;36mrequire_length_match\u001b[0;34m(data, index)\u001b[0m\n\u001b[1;32m    572\u001b[0m \u001b[39m\"\"\"\u001b[39;00m\n\u001b[1;32m    573\u001b[0m \u001b[39mCheck the length of data matches the length of the index.\u001b[39;00m\n\u001b[1;32m    574\u001b[0m \u001b[39m\"\"\"\u001b[39;00m\n\u001b[1;32m    575\u001b[0m \u001b[39mif\u001b[39;00m \u001b[39mlen\u001b[39m(data) \u001b[39m!=\u001b[39m \u001b[39mlen\u001b[39m(index):\n\u001b[0;32m--> 576\u001b[0m     \u001b[39mraise\u001b[39;00m \u001b[39mValueError\u001b[39;00m(\n\u001b[1;32m    577\u001b[0m         \u001b[39m\"\u001b[39m\u001b[39mLength of values \u001b[39m\u001b[39m\"\u001b[39m\n\u001b[1;32m    578\u001b[0m         \u001b[39mf\u001b[39m\u001b[39m\"\u001b[39m\u001b[39m(\u001b[39m\u001b[39m{\u001b[39;00m\u001b[39mlen\u001b[39m(data)\u001b[39m}\u001b[39;00m\u001b[39m) \u001b[39m\u001b[39m\"\u001b[39m\n\u001b[1;32m    579\u001b[0m         \u001b[39m\"\u001b[39m\u001b[39mdoes not match length of index \u001b[39m\u001b[39m\"\u001b[39m\n\u001b[1;32m    580\u001b[0m         \u001b[39mf\u001b[39m\u001b[39m\"\u001b[39m\u001b[39m(\u001b[39m\u001b[39m{\u001b[39;00m\u001b[39mlen\u001b[39m(index)\u001b[39m}\u001b[39;00m\u001b[39m)\u001b[39m\u001b[39m\"\u001b[39m\n\u001b[1;32m    581\u001b[0m     )\n",
      "\u001b[0;31mValueError\u001b[0m: Length of values (100) does not match length of index (1)"
     ]
    }
   ],
   "source": [
    "# coverage_by_type(['Jacknife+', 'CV+','Split'], sim_data_size_range, threshold_type, muh_fun)"
   ]
  },
  {
   "cell_type": "code",
   "execution_count": null,
   "metadata": {},
   "outputs": [],
   "source": [
    "# simulated/No_bias/sim_data_size_1000/Threshold_type_absolute/linear_regression/JAWS_coverage_by_trial/jackknife_plus.csv\n",
    "# simulated/No_bias/sim_data_size_1000/Threshold_type_absolute/linear_regression/JAWS_coverage_by_trial/jacknife_plus.csv"
   ]
  }
 ],
 "metadata": {
  "kernelspec": {
   "display_name": "pytorch_env",
   "language": "python",
   "name": "python3"
  },
  "language_info": {
   "codemirror_mode": {
    "name": "ipython",
    "version": 3
   },
   "file_extension": ".py",
   "mimetype": "text/x-python",
   "name": "python",
   "nbconvert_exporter": "python",
   "pygments_lexer": "ipython3",
   "version": "3.8.13"
  }
 },
 "nbformat": 4,
 "nbformat_minor": 2
}
