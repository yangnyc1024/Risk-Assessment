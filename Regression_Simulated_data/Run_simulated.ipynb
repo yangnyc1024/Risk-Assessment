{
 "cells": [
  {
   "cell_type": "code",
   "execution_count": 5,
   "id": "c2d33b6f-f6ef-4c36-a3b6-6c191b62218d",
   "metadata": {},
   "outputs": [],
   "source": [
    "dataset_options = ['simulated']\n",
    "# sim_data_size_options = [100, 200, 400, 600, 800, 1000]\n",
    "sim_data_size_options = [100]\n",
    "# muh_fun_options = ['linear_regression','polynomial_regression', 'knn', 'support_vector','neural_network', 'random_forest']\n",
    "muh_fun_options = ['neural_network']\n",
    "threshold_type_options = ['absolute','relative']\n",
    "tau_simulated_absolute = 10\n",
    "tau_simualted_relative = 0.175\n",
    "ntrials = 100\n",
    "# ntrials = 20"
   ]
  },
  {
   "cell_type": "code",
   "execution_count": 1,
   "id": "ae3bd777-ab22-4542-9012-f10b0e07be6b",
   "metadata": {},
   "outputs": [
    {
     "ename": "SyntaxError",
     "evalue": "invalid syntax (1033908743.py, line 1)",
     "output_type": "error",
     "traceback": [
      "\u001b[0;36m  Input \u001b[0;32mIn [1]\u001b[0;36m\u001b[0m\n\u001b[0;31m    run CP_regression_pipeline_simulated.py --dataset simulated  --muh_fun gpr --threshold_type absolute --tau  10 --ntrial 100\u001b[0m\n\u001b[0m        ^\u001b[0m\n\u001b[0;31mSyntaxError\u001b[0m\u001b[0;31m:\u001b[0m invalid syntax\n"
     ]
    }
   ],
   "source": [
    "run CP_regression_pipeline_simulated.py --dataset simulated  --muh_fun gpr --threshold_type absolute --tau  10 --ntrial 100\n",
    "# run CP_regression_pipeline_simulated.py --dataset simulated  --muh_fun gpr --threshold_type absolute --tau  10 --ntrial 20"
   ]
  },
  {
   "cell_type": "markdown",
   "id": "142db8a0-36a7-43b3-a393-dce425cd1a40",
   "metadata": {},
   "source": [
    "### Simulated Size = 100 Threshold = Absolute "
   ]
  },
  {
   "cell_type": "code",
   "execution_count": null,
   "id": "f8a5a911-1b42-475e-846e-a180c7cf9060",
   "metadata": {},
   "outputs": [],
   "source": [
    "# run CP_regression_pipeline.py --dataset simulated --sim_data_size 100 --muh_fun linear_regression --threshold_type absolute --tau  10 --ntrial 100"
   ]
  },
  {
   "cell_type": "code",
   "execution_count": null,
   "id": "9f3b72ca-0190-4c8b-b16f-66e06eb659c8",
   "metadata": {},
   "outputs": [],
   "source": [
    "# run CP_regression_pipeline.py --dataset simulated --sim_data_size 100 --muh_fun polynomial_regression --threshold_type absolute --tau  10 --ntrial 100"
   ]
  },
  {
   "cell_type": "code",
   "execution_count": null,
   "id": "7d2cea1e-a6d9-4199-9bd9-12f162cec42b",
   "metadata": {},
   "outputs": [],
   "source": [
    "# run CP_regression_pipeline.py --dataset simulated --sim_data_size 100 --muh_fun knn --threshold_type absolute --tau  10 --ntrial 100"
   ]
  },
  {
   "cell_type": "code",
   "execution_count": null,
   "id": "89620bea-8faf-4443-b928-6ca45bc9be0d",
   "metadata": {},
   "outputs": [],
   "source": [
    "# run CP_regression_pipeline.py --dataset simulated --sim_data_size 100 --muh_fun support_vector --threshold_type absolute --tau  10 --ntrial 100"
   ]
  },
  {
   "cell_type": "code",
   "execution_count": null,
   "id": "73de3351-4472-4c61-baab-c6d0771ad094",
   "metadata": {},
   "outputs": [],
   "source": [
    "# run CP_regression_pipeline.py --dataset simulated --sim_data_size 100 --muh_fun random_forest --threshold_type absolute --tau  10 --ntrial 100"
   ]
  },
  {
   "cell_type": "code",
   "execution_count": null,
   "id": "2a62c9b8-0cc3-48dd-8318-ae4057b3e0a3",
   "metadata": {},
   "outputs": [],
   "source": [
    "# run CP_regression_pipeline.py --dataset simulated --sim_data_size 100 --muh_fun neural_network --threshold_type absolute --tau  10 --ntrial 100"
   ]
  },
  {
   "cell_type": "markdown",
   "id": "b5957c7e-df68-4fd7-a120-0e5a32d8a2fd",
   "metadata": {},
   "source": [
    "### Simulated Size = 200 Threshold = Absolute "
   ]
  },
  {
   "cell_type": "code",
   "execution_count": null,
   "id": "cdf7f857-5342-4d5e-807d-c291da172faf",
   "metadata": {},
   "outputs": [],
   "source": [
    "# run CP_regression_pipeline.py --dataset simulated --sim_data_size 200 --muh_fun linear_regression --threshold_type absolute --tau  10 --ntrial 100"
   ]
  },
  {
   "cell_type": "code",
   "execution_count": null,
   "id": "4154b979-3bf7-4106-a343-fb748382108e",
   "metadata": {},
   "outputs": [],
   "source": [
    "# run CP_regression_pipeline.py --dataset simulated --sim_data_size 200 --muh_fun polynomial_regression --threshold_type absolute --tau  10 --ntrial 100"
   ]
  },
  {
   "cell_type": "code",
   "execution_count": null,
   "id": "a4810a1e-cb11-46fb-882a-9b428777139e",
   "metadata": {},
   "outputs": [],
   "source": [
    "# run CP_regression_pipeline.py --dataset simulated --sim_data_size 200 --muh_fun knn --threshold_type absolute --tau  10 --ntrial 100"
   ]
  },
  {
   "cell_type": "code",
   "execution_count": null,
   "id": "b082c9ed-d0a1-401c-a8c4-779fd4da264a",
   "metadata": {},
   "outputs": [],
   "source": [
    "# run CP_regression_pipeline.py --dataset simulated --sim_data_size 200 --muh_fun support_vector --threshold_type absolute --tau  10 --ntrial 100"
   ]
  },
  {
   "cell_type": "code",
   "execution_count": null,
   "id": "1d26fee3-ad80-4b12-809d-ff3a9980f2bf",
   "metadata": {},
   "outputs": [],
   "source": [
    "# run CP_regression_pipeline.py --dataset simulated --sim_data_size 200 --muh_fun random_forest --threshold_type absolute --tau  10 --ntrial 100"
   ]
  },
  {
   "cell_type": "code",
   "execution_count": null,
   "id": "7751f757-a70c-4460-baaa-061769b04f42",
   "metadata": {},
   "outputs": [],
   "source": [
    "# run CP_regression_pipeline.py --dataset simulated --sim_data_size 200 --muh_fun neural_network --threshold_type absolute --tau  10 --ntrial 100"
   ]
  },
  {
   "cell_type": "markdown",
   "id": "ac754e1b-2eac-4717-bdfe-50f03544bcd9",
   "metadata": {},
   "source": [
    "### Simulated Size = 400 Threshold = Absolute "
   ]
  },
  {
   "cell_type": "code",
   "execution_count": null,
   "id": "61e23844-efd4-4434-808e-e523eac40fb0",
   "metadata": {},
   "outputs": [],
   "source": [
    "# run CP_regression_pipeline.py --dataset simulated --sim_data_size 400 --muh_fun linear_regression --threshold_type absolute --tau  10 --ntrial 100"
   ]
  },
  {
   "cell_type": "code",
   "execution_count": null,
   "id": "e499d1c5-3137-4f59-96d7-f78be941c259",
   "metadata": {},
   "outputs": [],
   "source": [
    "# run CP_regression_pipeline.py --dataset simulated --sim_data_size 400 --muh_fun polynomial_regression --threshold_type absolute --tau  10 --ntrial 100"
   ]
  },
  {
   "cell_type": "code",
   "execution_count": null,
   "id": "fb5d46c2-851a-45bf-9cb5-b27d718a271f",
   "metadata": {},
   "outputs": [],
   "source": [
    "# run CP_regression_pipeline.py --dataset simulated --sim_data_size 400 --muh_fun knn --threshold_type absolute --tau  10 --ntrial 100"
   ]
  },
  {
   "cell_type": "code",
   "execution_count": null,
   "id": "2693248b-2966-42c7-94f8-aad578cf44fa",
   "metadata": {},
   "outputs": [],
   "source": [
    "# run CP_regression_pipeline.py --dataset simulated --sim_data_size 400 --muh_fun support_vector --threshold_type absolute --tau  10 --ntrial 100"
   ]
  },
  {
   "cell_type": "code",
   "execution_count": null,
   "id": "0da9ac42-d853-46e3-bca9-a48ca822f39a",
   "metadata": {},
   "outputs": [],
   "source": [
    "# run CP_regression_pipeline.py --dataset simulated --sim_data_size 400 --muh_fun random_forest --threshold_type absolute --tau  10 --ntrial 100"
   ]
  },
  {
   "cell_type": "code",
   "execution_count": null,
   "id": "f569f819-b861-4a09-91f0-478a5ffaeb16",
   "metadata": {},
   "outputs": [],
   "source": [
    "# run CP_regression_pipeline.py --dataset simulated --sim_data_size 400 --muh_fun neural_network --threshold_type absolute --tau  10 --ntrial 100"
   ]
  },
  {
   "cell_type": "markdown",
   "id": "03b2dfa6-7f6b-4f0a-87c9-084b2fbf5d5e",
   "metadata": {},
   "source": [
    "### Simulated Size = 600 Threshold = Absolute "
   ]
  },
  {
   "cell_type": "code",
   "execution_count": null,
   "id": "09b3521b-2643-4245-8207-50972c6c587b",
   "metadata": {},
   "outputs": [],
   "source": [
    "# run CP_regression_pipeline.py --dataset simulated --sim_data_size 600 --muh_fun linear_regression --threshold_type absolute --tau  10 --ntrial 100"
   ]
  },
  {
   "cell_type": "code",
   "execution_count": null,
   "id": "3cd7124f-5edc-4885-8502-aab65b8f49cd",
   "metadata": {},
   "outputs": [],
   "source": [
    "# run CP_regression_pipeline.py --dataset simulated --sim_data_size 600 --muh_fun polynomial_regression --threshold_type absolute --tau  10 --ntrial 100"
   ]
  },
  {
   "cell_type": "code",
   "execution_count": null,
   "id": "79a75410-3334-4921-b42f-f1d3a8651567",
   "metadata": {},
   "outputs": [],
   "source": [
    "# run CP_regression_pipeline.py --dataset simulated --sim_data_size 600 --muh_fun knn --threshold_type absolute --tau  10 --ntrial 100"
   ]
  },
  {
   "cell_type": "code",
   "execution_count": null,
   "id": "50be8987-1686-4512-9c0a-91ced1c561ce",
   "metadata": {},
   "outputs": [],
   "source": [
    "# run CP_regression_pipeline.py --dataset simulated --sim_data_size 600 --muh_fun support_vector --threshold_type absolute --tau  10 --ntrial 100"
   ]
  },
  {
   "cell_type": "code",
   "execution_count": null,
   "id": "e6ebfb6a-cd38-4eed-a6ca-d29ec788cacc",
   "metadata": {},
   "outputs": [
    {
     "ename": "Exception",
     "evalue": "File `'CP_regression_pipeline.py'` not found.",
     "output_type": "error",
     "traceback": [
      "\u001b[1;31m---------------------------------------------------------------------------\u001b[0m",
      "\u001b[1;31mOSError\u001b[0m                                   Traceback (most recent call last)",
      "File \u001b[1;32mC:\\Program Files (x86)\\conda3_2022\\lib\\site-packages\\IPython\\core\\magics\\execution.py:696\u001b[0m, in \u001b[0;36mExecutionMagics.run\u001b[1;34m(self, parameter_s, runner, file_finder)\u001b[0m\n\u001b[0;32m    695\u001b[0m     fpath \u001b[38;5;241m=\u001b[39m arg_lst[\u001b[38;5;241m0\u001b[39m]\n\u001b[1;32m--> 696\u001b[0m     filename \u001b[38;5;241m=\u001b[39m \u001b[43mfile_finder\u001b[49m\u001b[43m(\u001b[49m\u001b[43mfpath\u001b[49m\u001b[43m)\u001b[49m\n\u001b[0;32m    697\u001b[0m \u001b[38;5;28;01mexcept\u001b[39;00m \u001b[38;5;167;01mIndexError\u001b[39;00m \u001b[38;5;28;01mas\u001b[39;00m e:\n",
      "File \u001b[1;32mC:\\Program Files (x86)\\conda3_2022\\lib\\site-packages\\IPython\\utils\\path.py:91\u001b[0m, in \u001b[0;36mget_py_filename\u001b[1;34m(name)\u001b[0m\n\u001b[0;32m     90\u001b[0m \u001b[38;5;28;01melse\u001b[39;00m:\n\u001b[1;32m---> 91\u001b[0m     \u001b[38;5;28;01mraise\u001b[39;00m \u001b[38;5;167;01mIOError\u001b[39;00m(\u001b[38;5;124m'\u001b[39m\u001b[38;5;124mFile `\u001b[39m\u001b[38;5;132;01m%r\u001b[39;00m\u001b[38;5;124m` not found.\u001b[39m\u001b[38;5;124m'\u001b[39m \u001b[38;5;241m%\u001b[39m name)\n",
      "\u001b[1;31mOSError\u001b[0m: File `'CP_regression_pipeline.py'` not found.",
      "\nThe above exception was the direct cause of the following exception:\n",
      "\u001b[1;31mException\u001b[0m                                 Traceback (most recent call last)",
      "Input \u001b[1;32mIn [25]\u001b[0m, in \u001b[0;36m<cell line: 1>\u001b[1;34m()\u001b[0m\n\u001b[1;32m----> 1\u001b[0m \u001b[43mget_ipython\u001b[49m\u001b[43m(\u001b[49m\u001b[43m)\u001b[49m\u001b[38;5;241;43m.\u001b[39;49m\u001b[43mrun_line_magic\u001b[49m\u001b[43m(\u001b[49m\u001b[38;5;124;43m'\u001b[39;49m\u001b[38;5;124;43mrun\u001b[39;49m\u001b[38;5;124;43m'\u001b[39;49m\u001b[43m,\u001b[49m\u001b[43m \u001b[49m\u001b[38;5;124;43m'\u001b[39;49m\u001b[38;5;124;43mCP_regression_pipeline.py --dataset simulated --sim_data_size 600 --muh_fun random_forest --threshold_type absolute --tau  10 --ntrial 100\u001b[39;49m\u001b[38;5;124;43m'\u001b[39;49m\u001b[43m)\u001b[49m\n",
      "File \u001b[1;32mC:\\Program Files (x86)\\conda3_2022\\lib\\site-packages\\IPython\\core\\interactiveshell.py:2294\u001b[0m, in \u001b[0;36mInteractiveShell.run_line_magic\u001b[1;34m(self, magic_name, line, _stack_depth)\u001b[0m\n\u001b[0;32m   2292\u001b[0m     kwargs[\u001b[38;5;124m'\u001b[39m\u001b[38;5;124mlocal_ns\u001b[39m\u001b[38;5;124m'\u001b[39m] \u001b[38;5;241m=\u001b[39m \u001b[38;5;28mself\u001b[39m\u001b[38;5;241m.\u001b[39mget_local_scope(stack_depth)\n\u001b[0;32m   2293\u001b[0m \u001b[38;5;28;01mwith\u001b[39;00m \u001b[38;5;28mself\u001b[39m\u001b[38;5;241m.\u001b[39mbuiltin_trap:\n\u001b[1;32m-> 2294\u001b[0m     result \u001b[38;5;241m=\u001b[39m fn(\u001b[38;5;241m*\u001b[39margs, \u001b[38;5;241m*\u001b[39m\u001b[38;5;241m*\u001b[39mkwargs)\n\u001b[0;32m   2295\u001b[0m \u001b[38;5;28;01mreturn\u001b[39;00m result\n",
      "File \u001b[1;32mC:\\Program Files (x86)\\conda3_2022\\lib\\site-packages\\IPython\\core\\magics\\execution.py:707\u001b[0m, in \u001b[0;36mExecutionMagics.run\u001b[1;34m(self, parameter_s, runner, file_finder)\u001b[0m\n\u001b[0;32m    705\u001b[0m     \u001b[38;5;28;01mif\u001b[39;00m os\u001b[38;5;241m.\u001b[39mname \u001b[38;5;241m==\u001b[39m \u001b[38;5;124m'\u001b[39m\u001b[38;5;124mnt\u001b[39m\u001b[38;5;124m'\u001b[39m \u001b[38;5;129;01mand\u001b[39;00m re\u001b[38;5;241m.\u001b[39mmatch(\u001b[38;5;124mr\u001b[39m\u001b[38;5;124m\"\u001b[39m\u001b[38;5;124m^\u001b[39m\u001b[38;5;124m'\u001b[39m\u001b[38;5;124m.*\u001b[39m\u001b[38;5;124m'\u001b[39m\u001b[38;5;124m$\u001b[39m\u001b[38;5;124m\"\u001b[39m,fpath):\n\u001b[0;32m    706\u001b[0m         warn(\u001b[38;5;124m'\u001b[39m\u001b[38;5;124mFor Windows, use double quotes to wrap a filename: \u001b[39m\u001b[38;5;132;01m%r\u001b[39;00m\u001b[38;5;124mun \u001b[39m\u001b[38;5;124m\"\u001b[39m\u001b[38;5;124mmypath\u001b[39m\u001b[38;5;130;01m\\\\\u001b[39;00m\u001b[38;5;124mmyfile.py\u001b[39m\u001b[38;5;124m\"\u001b[39m\u001b[38;5;124m'\u001b[39m)\n\u001b[1;32m--> 707\u001b[0m     \u001b[38;5;28;01mraise\u001b[39;00m \u001b[38;5;167;01mException\u001b[39;00m(msg) \u001b[38;5;28;01mfrom\u001b[39;00m \u001b[38;5;21;01me\u001b[39;00m\n\u001b[0;32m    708\u001b[0m \u001b[38;5;28;01mexcept\u001b[39;00m \u001b[38;5;167;01mTypeError\u001b[39;00m:\n\u001b[0;32m    709\u001b[0m     \u001b[38;5;28;01mif\u001b[39;00m fpath \u001b[38;5;129;01min\u001b[39;00m sys\u001b[38;5;241m.\u001b[39mmeta_path:\n",
      "\u001b[1;31mException\u001b[0m: File `'CP_regression_pipeline.py'` not found."
     ]
    }
   ],
   "source": [
    "#run CP_regression_pipeline.py --dataset simulated --sim_data_size 600 --muh_fun random_forest --threshold_type absolute --tau  10 --ntrial 100"
   ]
  },
  {
   "cell_type": "code",
   "execution_count": null,
   "id": "f365ad21-1f4e-4eba-95a6-378c6882e44c",
   "metadata": {},
   "outputs": [],
   "source": [
    "# run CP_regression_pipeline.py --dataset simulated --sim_data_size 600 --muh_fun neural_network --threshold_type absolute --tau  10 --ntrial 100"
   ]
  },
  {
   "cell_type": "markdown",
   "id": "069267b9-2a68-46fa-b4ea-b841eadc62a3",
   "metadata": {},
   "source": [
    "### Simulated Size = 800 Threshold = Absolute "
   ]
  },
  {
   "cell_type": "code",
   "execution_count": null,
   "id": "1b4e1092-b5cc-41fa-b221-a673084cc8ad",
   "metadata": {},
   "outputs": [],
   "source": [
    "# run CP_regression_pipeline.py --dataset simulated --sim_data_size 800 --muh_fun linear_regression --threshold_type absolute --tau  10 --ntrial 100"
   ]
  },
  {
   "cell_type": "code",
   "execution_count": null,
   "id": "584a332e-4274-4372-8c86-362e0b478f41",
   "metadata": {},
   "outputs": [],
   "source": [
    "# run CP_regression_pipeline.py --dataset simulated --sim_data_size 800 --muh_fun polynomial_regression --threshold_type absolute --tau  10 --ntrial 100"
   ]
  },
  {
   "cell_type": "code",
   "execution_count": null,
   "id": "7fccaddc-0ecd-45ec-a2fd-653b26eff99a",
   "metadata": {},
   "outputs": [],
   "source": [
    "# run CP_regression_pipeline.py --dataset simulated --sim_data_size 800 --muh_fun knn --threshold_type absolute --tau  10 --ntrial 100"
   ]
  },
  {
   "cell_type": "code",
   "execution_count": null,
   "id": "0d3d4fb5-9775-4196-b134-fffdf08dfce7",
   "metadata": {},
   "outputs": [],
   "source": [
    "# run CP_regression_pipeline.py --dataset simulated --sim_data_size 800 --muh_fun support_vector --threshold_type absolute --tau  10 --ntrial 100"
   ]
  },
  {
   "cell_type": "code",
   "execution_count": null,
   "id": "0031c257-9478-4a13-a513-7f8d8b42eb50",
   "metadata": {},
   "outputs": [],
   "source": [
    "#run CP_regression_pipeline.py --dataset simulated --sim_data_size 800 --muh_fun random_forest --threshold_type absolute --tau  10 --ntrial 100"
   ]
  },
  {
   "cell_type": "code",
   "execution_count": null,
   "id": "9391fbef-cdd3-4dd9-b2fe-7bf942e0265c",
   "metadata": {},
   "outputs": [],
   "source": [
    "# run CP_regression_pipeline.py --dataset simulated --sim_data_size 800 --muh_fun neural_network --threshold_type absolute --tau  10 --ntrial 100"
   ]
  },
  {
   "cell_type": "markdown",
   "id": "b140886c-ace5-4cd7-a897-a7d80bb1d7e1",
   "metadata": {},
   "source": [
    "### Simulated Size = 1000 Threshold = Absolute "
   ]
  },
  {
   "cell_type": "code",
   "execution_count": null,
   "id": "c86b4f1f-d9ce-4b0b-8cd2-af35400baa13",
   "metadata": {},
   "outputs": [],
   "source": [
    "# run CP_regression_pipeline.py --dataset simulated --sim_data_size 1000 --muh_fun linear_regression --threshold_type absolute --tau  10 --ntrial 100"
   ]
  },
  {
   "cell_type": "code",
   "execution_count": null,
   "id": "37090717-0e1c-4ad9-a044-7370433e185e",
   "metadata": {},
   "outputs": [],
   "source": [
    "# run CP_regression_pipeline.py --dataset simulated --sim_data_size 1000 --muh_fun polynomial_regression --threshold_type absolute --tau  10 --ntrial 100"
   ]
  },
  {
   "cell_type": "code",
   "execution_count": null,
   "id": "855868b1-253c-4cfd-ba79-a25563c383e9",
   "metadata": {},
   "outputs": [],
   "source": [
    "# run CP_regression_pipeline.py --dataset simulated --sim_data_size 1000 --muh_fun knn --threshold_type absolute --tau  10 --ntrial 100"
   ]
  },
  {
   "cell_type": "code",
   "execution_count": null,
   "id": "1e12eee9-094f-47bd-8d88-7881e26ae895",
   "metadata": {},
   "outputs": [],
   "source": [
    "# run CP_regression_pipeline.py --dataset simulated --sim_data_size 1000 --muh_fun support_vector --threshold_type absolute --tau  10 --ntrial 100"
   ]
  },
  {
   "cell_type": "code",
   "execution_count": null,
   "id": "6c85930e-85f0-4b9e-84bf-641cba1d712e",
   "metadata": {},
   "outputs": [],
   "source": [
    "#run CP_regression_pipeline.py --dataset simulated --sim_data_size 1000 --muh_fun random_forest --threshold_type absolute --tau  10 --ntrial 100"
   ]
  },
  {
   "cell_type": "code",
   "execution_count": null,
   "id": "115a01f7-b181-4a7c-932b-ffadbb0179cf",
   "metadata": {},
   "outputs": [],
   "source": [
    "# run CP_regression_pipeline.py --dataset simulated --sim_data_size 1000 --muh_fun neural_network --threshold_type absolute --tau  10 --ntrial 100"
   ]
  },
  {
   "cell_type": "markdown",
   "id": "59cf622f-c52d-4978-8d07-020bd4bbc836",
   "metadata": {},
   "source": [
    "### Simulated Size = 100 Threshold = Relative "
   ]
  },
  {
   "cell_type": "code",
   "execution_count": null,
   "id": "309b7ae5-df9c-44cd-bfaa-cfcc1d728715",
   "metadata": {},
   "outputs": [],
   "source": [
    "# run CP_regression_pipeline.py --dataset simulated --sim_data_size 100 --muh_fun linear_regression --threshold_type relative --tau  0.175 --ntrial 100"
   ]
  },
  {
   "cell_type": "code",
   "execution_count": null,
   "id": "523a2daf-623a-45e8-8d5f-10fb36213800",
   "metadata": {},
   "outputs": [],
   "source": [
    "# run CP_regression_pipeline.py --dataset simulated --sim_data_size 100 --muh_fun polynomial_regression --threshold_type relative --tau  0.175 --ntrial 100"
   ]
  },
  {
   "cell_type": "code",
   "execution_count": null,
   "id": "365cbac0-d091-43ce-9052-d24751184f44",
   "metadata": {},
   "outputs": [],
   "source": [
    "# run CP_regression_pipeline.py --dataset simulated --sim_data_size 100 --muh_fun knn --threshold_type relative --tau  0.175 --ntrial 100"
   ]
  },
  {
   "cell_type": "code",
   "execution_count": null,
   "id": "fcbdb3a4-db73-4eec-acc7-15ec81d06d48",
   "metadata": {},
   "outputs": [],
   "source": [
    "# run CP_regression_pipeline.py --dataset simulated --sim_data_size 100 --muh_fun support_vector --threshold_type relative --tau  0.175 --ntrial 100"
   ]
  },
  {
   "cell_type": "code",
   "execution_count": null,
   "id": "66e13aa1-6508-4eac-947f-2fb79ef7ea27",
   "metadata": {},
   "outputs": [],
   "source": [
    "#run CP_regression_pipeline.py --dataset simulated --sim_data_size 100 --muh_fun random_forest --threshold_type relative --tau  0.175 --ntrial 100"
   ]
  },
  {
   "cell_type": "code",
   "execution_count": null,
   "id": "ed8c0520-3df4-4ccc-9b96-e8e4da5fafe5",
   "metadata": {},
   "outputs": [],
   "source": [
    "# run CP_regression_pipeline.py --dataset simulated --sim_data_size 100 --muh_fun neural_network --threshold_type relative --tau  0.175 --ntrial 100"
   ]
  },
  {
   "cell_type": "markdown",
   "id": "4310995f-114a-4eb8-bf5f-cf04ca48bd0c",
   "metadata": {},
   "source": [
    "### Simulated Size = 200 Threshold = Relative "
   ]
  },
  {
   "cell_type": "code",
   "execution_count": null,
   "id": "bfe41e76-1a03-445f-87bd-816aca71a778",
   "metadata": {},
   "outputs": [],
   "source": [
    "# run CP_regression_pipeline.py --dataset simulated --sim_data_size 200 --muh_fun linear_regression --threshold_type relative --tau  0.175 --ntrial 100"
   ]
  },
  {
   "cell_type": "code",
   "execution_count": null,
   "id": "aa426931-1adf-4e9b-bfa0-7e49d8ee3a81",
   "metadata": {},
   "outputs": [],
   "source": [
    "# run CP_regression_pipeline.py --dataset simulated --sim_data_size 200 --muh_fun polynomial_regression --threshold_type relative --tau  0.175 --ntrial 100"
   ]
  },
  {
   "cell_type": "code",
   "execution_count": null,
   "id": "b10438cb-fd96-4d9b-a7aa-8eeccd0cc8b2",
   "metadata": {},
   "outputs": [],
   "source": [
    "# run CP_regression_pipeline.py --dataset simulated --sim_data_size 200 --muh_fun knn --threshold_type relative --tau  0.175 --ntrial 100"
   ]
  },
  {
   "cell_type": "code",
   "execution_count": null,
   "id": "f751f386-fab1-4be3-ba2a-0f0b251b7629",
   "metadata": {},
   "outputs": [],
   "source": [
    "# run CP_regression_pipeline.py --dataset simulated --sim_data_size 200 --muh_fun support_vector --threshold_type relative --tau  0.175 --ntrial 100"
   ]
  },
  {
   "cell_type": "code",
   "execution_count": null,
   "id": "94ab8ef3-9849-406a-9f57-0428e342cc6a",
   "metadata": {},
   "outputs": [],
   "source": [
    "#run CP_regression_pipeline.py --dataset simulated --sim_data_size 200 --muh_fun random_forest --threshold_type relative --tau  0.175 --ntrial 100"
   ]
  },
  {
   "cell_type": "code",
   "execution_count": null,
   "id": "98a77206-20f6-4850-add9-20ec9f24a963",
   "metadata": {},
   "outputs": [],
   "source": [
    "# run CP_regression_pipeline.py --dataset simulated --sim_data_size 200 --muh_fun neural_network --threshold_type relative --tau  0.175 --ntrial 100"
   ]
  },
  {
   "cell_type": "markdown",
   "id": "ba862e9a-cf88-491a-aa20-a7ffd10fa5fa",
   "metadata": {},
   "source": [
    "### Simulated Size = 400 Threshold = Relative "
   ]
  },
  {
   "cell_type": "code",
   "execution_count": null,
   "id": "880d0088-10ef-4b88-b2e7-d819c61fd5c3",
   "metadata": {},
   "outputs": [],
   "source": [
    "# run CP_regression_pipeline.py --dataset simulated --sim_data_size 400 --muh_fun linear_regression --threshold_type relative --tau  0.175 --ntrial 100"
   ]
  },
  {
   "cell_type": "code",
   "execution_count": null,
   "id": "df7f318b-d371-4d88-a61d-4edf0e176f13",
   "metadata": {},
   "outputs": [],
   "source": [
    "# run CP_regression_pipeline.py --dataset simulated --sim_data_size 400 --muh_fun polynomial_regression --threshold_type relative --tau  0.175 --ntrial 100"
   ]
  },
  {
   "cell_type": "code",
   "execution_count": null,
   "id": "05f8ba3b-08f9-4b93-9ab0-fc521510dc04",
   "metadata": {},
   "outputs": [],
   "source": [
    "# run CP_regression_pipeline.py --dataset simulated --sim_data_size 400 --muh_fun knn --threshold_type relative --tau  0.175 --ntrial 100"
   ]
  },
  {
   "cell_type": "code",
   "execution_count": null,
   "id": "4ec45574-0a6c-4ee5-9e79-e1ec1e29be2f",
   "metadata": {},
   "outputs": [],
   "source": [
    "# run CP_regression_pipeline.py --dataset simulated --sim_data_size 400 --muh_fun support_vector --threshold_type relative --tau  0.175 --ntrial 100"
   ]
  },
  {
   "cell_type": "code",
   "execution_count": null,
   "id": "7fb7bdab-781d-42e8-8dad-8127c785576e",
   "metadata": {},
   "outputs": [],
   "source": [
    "#run CP_regression_pipeline.py --dataset simulated --sim_data_size 400 --muh_fun random_forest --threshold_type relative --tau  0.175 --ntrial 100"
   ]
  },
  {
   "cell_type": "code",
   "execution_count": null,
   "id": "a85d0c4e-2a6e-4b34-8685-26b6dc002675",
   "metadata": {},
   "outputs": [],
   "source": [
    "# run CP_regression_pipeline.py --dataset simulated --sim_data_size 400 --muh_fun neural_network --threshold_type relative --tau  0.175 --ntrial 100"
   ]
  },
  {
   "cell_type": "markdown",
   "id": "cf7bbd5d-9df7-4dd0-9584-8c4f7ff32c94",
   "metadata": {},
   "source": [
    "### Simulated Size = 600 Threshold = Relative  "
   ]
  },
  {
   "cell_type": "code",
   "execution_count": null,
   "id": "0faa0bff-2de2-4eea-b11a-99ea0f2972db",
   "metadata": {},
   "outputs": [],
   "source": [
    "# run CP_regression_pipeline.py --dataset simulated --sim_data_size 600 --muh_fun linear_regression --threshold_type relative --tau  0.175 --ntrial 100"
   ]
  },
  {
   "cell_type": "code",
   "execution_count": null,
   "id": "00133ebc-32e3-4146-bb60-b5a1e4254e3c",
   "metadata": {},
   "outputs": [],
   "source": [
    "# run CP_regression_pipeline.py --dataset simulated --sim_data_size 600 --muh_fun polynomial_regression --threshold_type relative --tau  0.175 --ntrial 100"
   ]
  },
  {
   "cell_type": "code",
   "execution_count": null,
   "id": "b2604748-98a9-494b-bfc6-2387a38b4d88",
   "metadata": {},
   "outputs": [],
   "source": [
    "# run CP_regression_pipeline.py --dataset simulated --sim_data_size 600 --muh_fun knn --threshold_type relative --tau  0.175 --ntrial 100"
   ]
  },
  {
   "cell_type": "code",
   "execution_count": null,
   "id": "c9f3dd49-8007-4e1a-9c6d-03d162f6bb0e",
   "metadata": {},
   "outputs": [],
   "source": [
    "# run CP_regression_pipeline.py --dataset simulated --sim_data_size 600 --muh_fun support_vector --threshold_type relative --tau  0.175 --ntrial 100"
   ]
  },
  {
   "cell_type": "code",
   "execution_count": null,
   "id": "278ae5a6-b161-4bff-bfc7-78c0af16c165",
   "metadata": {},
   "outputs": [],
   "source": [
    "#run CP_regression_pipeline.py --dataset simulated --sim_data_size 600 --muh_fun random_forest --threshold_type relative --tau  0.175 --ntrial 100"
   ]
  },
  {
   "cell_type": "code",
   "execution_count": null,
   "id": "2bbd727c-7481-4d08-ad2f-21f0810d4eb8",
   "metadata": {},
   "outputs": [],
   "source": [
    "# run CP_regression_pipeline.py --dataset simulated --sim_data_size 600 --muh_fun neural_network --threshold_type relative --tau  0.175 --ntrial 100"
   ]
  },
  {
   "cell_type": "markdown",
   "id": "9d84f878-56a1-407d-9e65-cc348e6f79a2",
   "metadata": {},
   "source": [
    "### Simulated Size = 800 Threshold = Relative "
   ]
  },
  {
   "cell_type": "code",
   "execution_count": null,
   "id": "fe6940e7-cf2d-420b-bc65-739c3e6e54aa",
   "metadata": {},
   "outputs": [],
   "source": [
    "# run CP_regression_pipeline.py --dataset simulated --sim_data_size 800 --muh_fun linear_regression --threshold_type relative --tau  0.175 --ntrial 100"
   ]
  },
  {
   "cell_type": "code",
   "execution_count": null,
   "id": "25c7c992-1209-4d7b-8818-35ee74d37412",
   "metadata": {},
   "outputs": [],
   "source": [
    "# run CP_regression_pipeline.py --dataset simulated --sim_data_size 800 --muh_fun polynomial_regression --threshold_type relative --tau  0.175 --ntrial 100"
   ]
  },
  {
   "cell_type": "code",
   "execution_count": null,
   "id": "02c8f074-cd01-4117-9777-d7ec47f56d13",
   "metadata": {},
   "outputs": [],
   "source": [
    "# run CP_regression_pipeline.py --dataset simulated --sim_data_size 800 --muh_fun knn --threshold_type relative --tau  0.175 --ntrial 100"
   ]
  },
  {
   "cell_type": "code",
   "execution_count": null,
   "id": "cff8304a-4b4a-4e0f-8666-cc6c5847a54f",
   "metadata": {},
   "outputs": [],
   "source": [
    "# run CP_regression_pipeline.py --dataset simulated --sim_data_size 800 --muh_fun support_vector --threshold_type relative --tau  0.175 --ntrial 100"
   ]
  },
  {
   "cell_type": "code",
   "execution_count": null,
   "id": "7edf3980-4114-437d-a040-97591f5f81ed",
   "metadata": {},
   "outputs": [],
   "source": [
    "#run CP_regression_pipeline.py --dataset simulated --sim_data_size 800 --muh_fun random_forest --threshold_type relative --tau  0.175 --ntrial 100"
   ]
  },
  {
   "cell_type": "code",
   "execution_count": null,
   "id": "dd71d0d7-809c-4cd6-a53f-453118439280",
   "metadata": {},
   "outputs": [],
   "source": [
    "# run CP_regression_pipeline.py --dataset simulated --sim_data_size 800 --muh_fun neural_network --threshold_type relative --tau  0.175 --ntrial 100"
   ]
  },
  {
   "cell_type": "markdown",
   "id": "31b4b123-adea-440b-8412-6ca1046be5d0",
   "metadata": {},
   "source": [
    "### Simulated Size = 1000 Threshold = Relative "
   ]
  },
  {
   "cell_type": "code",
   "execution_count": null,
   "id": "eb36b890-3336-4b98-8f85-83fac3c75bba",
   "metadata": {},
   "outputs": [],
   "source": [
    "# run CP_regression_pipeline.py --dataset simulated --sim_data_size 1000 --muh_fun linear_regression --threshold_type relative --tau  0.175 --ntrial 100"
   ]
  },
  {
   "cell_type": "code",
   "execution_count": null,
   "id": "d908bbc1-3407-4655-8c3c-2f02b3221124",
   "metadata": {},
   "outputs": [],
   "source": [
    "# run CP_regression_pipeline.py --dataset simulated --sim_data_size 1000 --muh_fun polynomial_regression --threshold_type relative --tau  0.175 --ntrial 100"
   ]
  },
  {
   "cell_type": "code",
   "execution_count": null,
   "id": "70dab4dc-ad2e-4277-a6cf-398c706c346a",
   "metadata": {},
   "outputs": [],
   "source": [
    "# run CP_regression_pipeline.py --dataset simulated --sim_data_size 1000 --muh_fun knn --threshold_type relative --tau  0.175 --ntrial 100"
   ]
  },
  {
   "cell_type": "code",
   "execution_count": null,
   "id": "beef3b87-dacd-4dd2-9aba-6722ed4ca0d6",
   "metadata": {},
   "outputs": [],
   "source": [
    "# run CP_regression_pipeline.py --dataset simulated --sim_data_size 1000 --muh_fun support_vector --threshold_type relative --tau  0.175 --ntrial 100"
   ]
  },
  {
   "cell_type": "code",
   "execution_count": null,
   "id": "ff55e76d-0292-4070-aff8-028dbcf5041c",
   "metadata": {},
   "outputs": [],
   "source": [
    "#run CP_regression_pipeline.py --dataset simulated --sim_data_size 1000 --muh_fun random_forest --threshold_type relative --tau  0.175 --ntrial 100"
   ]
  },
  {
   "cell_type": "code",
   "execution_count": null,
   "id": "bc6556eb-934e-495c-bd66-233691f56a01",
   "metadata": {},
   "outputs": [],
   "source": [
    "# run CP_regression_pipeline.py --dataset simulated --sim_data_size 1000 --muh_fun neural_network --threshold_type relative --tau  0.175 --ntrial 100"
   ]
  }
 ],
 "metadata": {
  "kernelspec": {
   "display_name": "Python 3 (ipykernel)",
   "language": "python",
   "name": "python3"
  },
  "language_info": {
   "codemirror_mode": {
    "name": "ipython",
    "version": 3
   },
   "file_extension": ".py",
   "mimetype": "text/x-python",
   "name": "python",
   "nbconvert_exporter": "python",
   "pygments_lexer": "ipython3",
   "version": "3.8.13"
  }
 },
 "nbformat": 4,
 "nbformat_minor": 5
}
